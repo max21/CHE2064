{
 "cells": [
  {
   "cell_type": "code",
   "execution_count": 50,
   "metadata": {
    "collapsed": true
   },
   "outputs": [],
   "source": [
    "import re\n",
    "\n",
    "import requests\n",
    "import string\n",
    "from collections import deque\n",
    "import numpy as np\n",
    "from itertools import combinations"
   ]
  },
  {
   "cell_type": "code",
   "execution_count": 51,
   "outputs": [],
   "source": [
    "def import_ChemCad(comps, base_url=None, extract_single_props=None,\n",
    "                   extract_coeff_props=None, suffix='Props.txt'):\n",
    "\n",
    "  N_comps = len(comps)\n",
    "  if base_url is None:\n",
    "    base_url = 'https://raw.githubusercontent.com/profteachkids/CHE2064/master/data/'\n",
    "\n",
    "  if extract_single_props is None:\n",
    "    extract_single_props = {'Molecular Weight' : 'Mw',\n",
    "                            'Critical Temperature' : 'Tc',\n",
    "                            'Critical Pressure' : 'Pc',\n",
    "                            'Critical Volume' : 'Vc',\n",
    "                            'Acentric factor' : 'w',\n",
    "                            'Normal boiling point' : 'Tb',\n",
    "                            'Heat of vaporization' : 'Hvap'}\n",
    "  if extract_coeff_props is None:\n",
    "    extract_coeff_props={'Vapor Pressure' : 'Pvap'}\n",
    "\n",
    "  id_pat = re.compile(r'ID\\s+(\\d+)')\n",
    "  formula_pat = re.compile(r'Formula:\\s+([A-Z1-9]+)')\n",
    "  single_props_pat = re.compile('^\\s+([\\w\\s]+?)\\s+:\\s+([-.0-9e+]+)\\s+[\\w\\s/]*$', re.MULTILINE)\n",
    "  coeffs_name_pat = re.compile(\"([\\w ]+)\\s[^\\n]*?Equation.*?Coeffs:([- e\\d.+]+)+?\", re.DOTALL)\n",
    "  coeffs_pat = re.compile('([-\\de.+]+)')\n",
    "\n",
    "  props_deque=deque()\n",
    "  for comp in comps:\n",
    "    text = requests.get(base_url+comp + suffix).text\n",
    "    props={'Name': comp}\n",
    "    props['ID']=id_pat.search(text).groups(1)[0]\n",
    "    props['Formula']=formula_pat.search(text).groups(1)[0]\n",
    "    single_props = dict(single_props_pat.findall(text))\n",
    "    for k,v in extract_single_props.items():\n",
    "      props[v]=float(single_props.pop(k))\n",
    "\n",
    "    coeffs_name_strings = dict(coeffs_name_pat.findall(text))\n",
    "    for k,v in extract_coeff_props.items():\n",
    "      coeffs = coeffs_pat.findall(coeffs_name_strings[k])\n",
    "      for letter, value in zip(string.ascii_uppercase,coeffs):\n",
    "        props[v+letter]=float(value)\n",
    "    props_deque.append(props)\n",
    "  props={}\n",
    "  for prop in props_deque[0].keys():\n",
    "    if N_comps>1:\n",
    "        values = np.array([comp[prop] for comp in props_deque])\n",
    "    else:\n",
    "        values = props_deque[0][prop]\n",
    "    props[prop]=values\n",
    "  return props"
   ],
   "metadata": {
    "collapsed": false,
    "pycharm": {
     "name": "#%%\n"
    }
   }
  },
  {
   "cell_type": "code",
   "execution_count": 52,
   "outputs": [],
   "source": [
    "def import_NRTL(ids, data_file=None):\n",
    "\n",
    "    N_comps = len(ids)\n",
    "    if data_file is None:\n",
    "     data_file = 'https://raw.githubusercontent.com/profteachkids/CHE2064/master/data/BinaryNRTL.txt'\n",
    "    text = requests.get(data_file).text\n",
    "\n",
    "    comps_string = '|'.join(ids)\n",
    "    id_name_pat = re.compile(r'^\\s+(\\d+)[ ]+(' + comps_string +')[ ]+[A-Za-z]',re.MULTILINE)\n",
    "    id_str = id_name_pat.findall(text)\n",
    "    #maintain order of components\n",
    "    id_dict = {v:k for k,v in id_str}\n",
    "    id_str = [id_dict[id] for id in ids]\n",
    "    comb_strs = combinations(id_str,2)\n",
    "    comb_indices = combinations(range(N_comps),2)\n",
    "    NRTL_A, NRTL_B, NRTL_C, NRTL_D, NRTL_alpha = np.zeros((5, N_comps,N_comps))\n",
    "    for comb_str, comb_index in zip(comb_strs, comb_indices):\n",
    "        comb_str = '|'.join(comb_str)\n",
    "        comb_values_pat = re.compile(r'^[ ]+(' + comb_str +\n",
    "                                     r')[ ]+(?:' + comb_str + r')(.*)$', re.MULTILINE)\n",
    "\n",
    "        first_id, values = comb_values_pat.search(text).groups(1)\n",
    "        #if matched order is flipped, also flip indices\n",
    "        if first_id != comb_index[0]:\n",
    "            comb_index = (comb_index[1],comb_index[0])\n",
    "        bij, bji, alpha, aij, aji, cij, cji, dij, dji  = [float(val) for val in values.split()]\n",
    "        np.add.at(NRTL_B, comb_index, bij)\n",
    "        np.add.at(NRTL_B, (comb_index[1],comb_index[0]), bji)\n",
    "        np.add.at(NRTL_A, comb_index, aij)\n",
    "        np.add.at(NRTL_A, (comb_index[1],comb_index[0]), aji)\n",
    "        np.add.at(NRTL_C, comb_index, cij)\n",
    "        np.add.at(NRTL_C, (comb_index[1],comb_index[0]), cji)\n",
    "        np.add.at(NRTL_D, comb_index, dij)\n",
    "        np.add.at(NRTL_D, (comb_index[1],comb_index[0]), dji)\n",
    "        np.add.at(NRTL_alpha, comb_index, alpha)\n",
    "        np.add.at(NRTL_alpha, (comb_index[1],comb_index[0]), alpha)\n",
    "    return dict(A=NRTL_A, B=NRTL_B, C=NRTL_C, D=NRTL_D, alpha=NRTL_alpha)"
   ],
   "metadata": {
    "collapsed": false,
    "pycharm": {
     "name": "#%%\n"
    }
   }
  },
  {
   "cell_type": "code",
   "execution_count": 55,
   "outputs": [
    {
     "ename": "AttributeError",
     "evalue": "'NoneType' object has no attribute 'groups'",
     "output_type": "error",
     "traceback": [
      "\u001B[0;31m---------------------------------------------------------------------------\u001B[0m",
      "\u001B[0;31mAttributeError\u001B[0m                            Traceback (most recent call last)",
      "\u001B[0;32m<ipython-input-55-5e3f4ce8c1a6>\u001B[0m in \u001B[0;36m<module>\u001B[0;34m\u001B[0m\n\u001B[0;32m----> 1\u001B[0;31m \u001B[0mprops\u001B[0m\u001B[0;34m=\u001B[0m\u001B[0mimport_ChemCad\u001B[0m\u001B[0;34m(\u001B[0m\u001B[0;34m[\u001B[0m\u001B[0;34m'Propylene'\u001B[0m\u001B[0;34m,\u001B[0m\u001B[0;34m'Isopropanol'\u001B[0m\u001B[0;34m,\u001B[0m\u001B[0;34m'Water'\u001B[0m\u001B[0;34m]\u001B[0m\u001B[0;34m)\u001B[0m\u001B[0;34m\u001B[0m\u001B[0;34m\u001B[0m\u001B[0m\n\u001B[0m\u001B[1;32m      2\u001B[0m \u001B[0mimport_NRTL\u001B[0m\u001B[0;34m(\u001B[0m\u001B[0mprops\u001B[0m\u001B[0;34m[\u001B[0m\u001B[0;34m'ID'\u001B[0m\u001B[0;34m]\u001B[0m\u001B[0;34m)\u001B[0m\u001B[0;34m\u001B[0m\u001B[0;34m\u001B[0m\u001B[0m\n\u001B[1;32m      3\u001B[0m \u001B[0;34m\u001B[0m\u001B[0m\n",
      "\u001B[0;32m<ipython-input-51-5159a7f3e2fe>\u001B[0m in \u001B[0;36mimport_ChemCad\u001B[0;34m(comps, base_url, extract_single_props, extract_coeff_props, suffix)\u001B[0m\n\u001B[1;32m     27\u001B[0m     \u001B[0mtext\u001B[0m \u001B[0;34m=\u001B[0m \u001B[0mrequests\u001B[0m\u001B[0;34m.\u001B[0m\u001B[0mget\u001B[0m\u001B[0;34m(\u001B[0m\u001B[0mbase_url\u001B[0m\u001B[0;34m+\u001B[0m\u001B[0mcomp\u001B[0m \u001B[0;34m+\u001B[0m \u001B[0msuffix\u001B[0m\u001B[0;34m)\u001B[0m\u001B[0;34m.\u001B[0m\u001B[0mtext\u001B[0m\u001B[0;34m\u001B[0m\u001B[0;34m\u001B[0m\u001B[0m\n\u001B[1;32m     28\u001B[0m     \u001B[0mprops\u001B[0m\u001B[0;34m=\u001B[0m\u001B[0;34m{\u001B[0m\u001B[0;34m'Name'\u001B[0m\u001B[0;34m:\u001B[0m \u001B[0mcomp\u001B[0m\u001B[0;34m}\u001B[0m\u001B[0;34m\u001B[0m\u001B[0;34m\u001B[0m\u001B[0m\n\u001B[0;32m---> 29\u001B[0;31m     \u001B[0mprops\u001B[0m\u001B[0;34m[\u001B[0m\u001B[0;34m'ID'\u001B[0m\u001B[0;34m]\u001B[0m\u001B[0;34m=\u001B[0m\u001B[0mid_pat\u001B[0m\u001B[0;34m.\u001B[0m\u001B[0msearch\u001B[0m\u001B[0;34m(\u001B[0m\u001B[0mtext\u001B[0m\u001B[0;34m)\u001B[0m\u001B[0;34m.\u001B[0m\u001B[0mgroups\u001B[0m\u001B[0;34m(\u001B[0m\u001B[0;36m1\u001B[0m\u001B[0;34m)\u001B[0m\u001B[0;34m[\u001B[0m\u001B[0;36m0\u001B[0m\u001B[0;34m]\u001B[0m\u001B[0;34m\u001B[0m\u001B[0;34m\u001B[0m\u001B[0m\n\u001B[0m\u001B[1;32m     30\u001B[0m     \u001B[0mprops\u001B[0m\u001B[0;34m[\u001B[0m\u001B[0;34m'Formula'\u001B[0m\u001B[0;34m]\u001B[0m\u001B[0;34m=\u001B[0m\u001B[0mformula_pat\u001B[0m\u001B[0;34m.\u001B[0m\u001B[0msearch\u001B[0m\u001B[0;34m(\u001B[0m\u001B[0mtext\u001B[0m\u001B[0;34m)\u001B[0m\u001B[0;34m.\u001B[0m\u001B[0mgroups\u001B[0m\u001B[0;34m(\u001B[0m\u001B[0;36m1\u001B[0m\u001B[0;34m)\u001B[0m\u001B[0;34m[\u001B[0m\u001B[0;36m0\u001B[0m\u001B[0;34m]\u001B[0m\u001B[0;34m\u001B[0m\u001B[0;34m\u001B[0m\u001B[0m\n\u001B[1;32m     31\u001B[0m     \u001B[0msingle_props\u001B[0m \u001B[0;34m=\u001B[0m \u001B[0mdict\u001B[0m\u001B[0;34m(\u001B[0m\u001B[0msingle_props_pat\u001B[0m\u001B[0;34m.\u001B[0m\u001B[0mfindall\u001B[0m\u001B[0;34m(\u001B[0m\u001B[0mtext\u001B[0m\u001B[0;34m)\u001B[0m\u001B[0;34m)\u001B[0m\u001B[0;34m\u001B[0m\u001B[0;34m\u001B[0m\u001B[0m\n",
      "\u001B[0;31mAttributeError\u001B[0m: 'NoneType' object has no attribute 'groups'"
     ]
    }
   ],
   "source": [
    "props=import_ChemCad(['Propylene','Isopropanol','Water'])\n",
    "import_NRTL(props['ID'])"
   ],
   "metadata": {
    "collapsed": false,
    "pycharm": {
     "name": "#%%\n"
    }
   }
  },
  {
   "cell_type": "code",
   "execution_count": 54,
   "outputs": [
    {
     "data": {
      "text/plain": "{'Name': array(['Isopropanol', 'Water', 'Toluene'], dtype='<U11'),\n 'ID': array(['145', '62', '41'], dtype='<U3'),\n 'Formula': array(['C3H8O', 'H2O', 'C7H8'], dtype='<U5'),\n 'Mw': array([60.096, 18.015, 92.141]),\n 'Tc': array([508.31, 647.35, 591.79]),\n 'Pc': array([ 4764300., 22118230.,  4108000.]),\n 'Vc': array([0.2201  , 0.063494, 0.316   ]),\n 'w': array([0.6689, 0.348 , 0.264 ]),\n 'Tb': array([355.41, 373.15, 383.78]),\n 'Hvap': array([39832530., 40656800., 33179830.]),\n 'PvapA': array([92.935, 72.55 , 76.945]),\n 'PvapB': array([-8177.1, -7206.7, -6729.8]),\n 'PvapC': array([-10.031 ,  -7.1385,  -8.179 ]),\n 'PvapD': array([3.9988e-06, 4.0460e-06, 5.3017e-06]),\n 'PvapE': array([2., 2., 2.]),\n 'PvapF': array([0., 0., 0.]),\n 'PvapG': array([0., 0., 0.])}"
     },
     "execution_count": 54,
     "metadata": {},
     "output_type": "execute_result"
    }
   ],
   "source": [
    "props"
   ],
   "metadata": {
    "collapsed": false,
    "pycharm": {
     "name": "#%%\n"
    }
   }
  },
  {
   "cell_type": "code",
   "execution_count": null,
   "outputs": [],
   "source": [],
   "metadata": {
    "collapsed": false,
    "pycharm": {
     "name": "#%%\n"
    }
   }
  }
 ],
 "metadata": {
  "kernelspec": {
   "display_name": "Python 3",
   "language": "python",
   "name": "python3"
  },
  "language_info": {
   "codemirror_mode": {
    "name": "ipython",
    "version": 2
   },
   "file_extension": ".py",
   "mimetype": "text/x-python",
   "name": "python",
   "nbconvert_exporter": "python",
   "pygments_lexer": "ipython2",
   "version": "2.7.6"
  }
 },
 "nbformat": 4,
 "nbformat_minor": 0
}