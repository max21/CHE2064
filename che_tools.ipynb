{
 "cells": [
  {
   "cell_type": "code",
   "execution_count": 1,
   "metadata": {
    "collapsed": true
   },
   "outputs": [],
   "source": [
    "import re\n",
    "\n",
    "import requests\n",
    "import string\n",
    "from collections import deque\n",
    "import numpy as np\n",
    "from itertools import combinations"
   ]
  },
  {
   "cell_type": "code",
   "execution_count": 2,
   "outputs": [],
   "source": [
    "def import_ChemCad(comps, base_url=None, extract_single_props=None,\n",
    "                   extract_coeff_props=None, suffix='Props.txt'):\n",
    "\n",
    "  N_comps = len(comps)\n",
    "  if base_url is None:\n",
    "    base_url = 'https://raw.githubusercontent.com/profteachkids/CHE2064/master/data/'\n",
    "\n",
    "  if extract_single_props is None:\n",
    "    extract_single_props = {'Molecular Weight' : 'Mw',\n",
    "                            'Critical Temperature' : 'Tc',\n",
    "                            'Critical Pressure' : 'Pc',\n",
    "                            'Critical Volume' : 'Vc',\n",
    "                            'Acentric factor' : 'w',\n",
    "                            'Normal boiling point' : 'Tb',\n",
    "                            'Heat of vaporization' : 'Hvap'}\n",
    "  if extract_coeff_props is None:\n",
    "    extract_coeff_props={'Vapor Pressure' : 'Pvap'}\n",
    "\n",
    "  id_pat = re.compile(r'ID\\s+(\\d+)')\n",
    "  formula_pat = re.compile(r'Formula:\\s+([A-Z1-9]+)')\n",
    "  single_props_pat = re.compile('^\\s+([\\w\\s]+?)\\s+:\\s+([-.0-9e+]+)\\s+[\\w\\s/]*$', re.MULTILINE)\n",
    "  coeffs_name_pat = re.compile(\"([\\w ]+)\\s[^\\n]*?Equation.*?Coeffs:([- e\\d.+]+)+?\", re.DOTALL)\n",
    "  coeffs_pat = re.compile('([-\\de.+]+)')\n",
    "\n",
    "  props_deque=deque()\n",
    "  for comp in comps:\n",
    "    text = requests.get(base_url+comp + suffix).text\n",
    "    props={'Name': comp}\n",
    "    props['ID']=id_pat.search(text).groups(1)[0]\n",
    "    props['Formula']=formula_pat.search(text).groups(1)[0]\n",
    "    single_props = dict(single_props_pat.findall(text))\n",
    "    for k,v in extract_single_props.items():\n",
    "      props[v]=float(single_props.pop(k))\n",
    "\n",
    "    coeffs_name_strings = dict(coeffs_name_pat.findall(text))\n",
    "    for k,v in extract_coeff_props.items():\n",
    "      coeffs = coeffs_pat.findall(coeffs_name_strings[k])\n",
    "      for letter, value in zip(string.ascii_uppercase,coeffs):\n",
    "        props[v+letter]=float(value)\n",
    "    props_deque.append(props)\n",
    "  props={}\n",
    "  for prop in props_deque[0].keys():\n",
    "    if N_comps>1:\n",
    "        values = np.array([comp[prop] for comp in props_deque])\n",
    "    else:\n",
    "        values = props_deque[0][prop]\n",
    "    props[prop]=values\n",
    "  return props"
   ],
   "metadata": {
    "collapsed": false,
    "pycharm": {
     "name": "#%%\n"
    }
   }
  },
  {
   "cell_type": "code",
   "execution_count": 45,
   "outputs": [],
   "source": [
    "def import_NRTL(ids, data_file=None):\n",
    "\n",
    "    N_comps = len(ids)\n",
    "    if data_file is None:\n",
    "     data_file = 'https://raw.githubusercontent.com/profteachkids/CHE2064/master/data/BinaryNRTL.txt'\n",
    "    text = requests.get(data_file).text\n",
    "\n",
    "    comps_string = '|'.join(ids)\n",
    "    id_name_pat = re.compile(r'^\\s+(\\d+)[ ]+(' + comps_string +')[ ]+[A-Za-z]',re.MULTILINE)\n",
    "    id_str = id_name_pat.findall(text)\n",
    "    #maintain order of components\n",
    "    id_dict = {v:k for k,v in id_str}\n",
    "    id_str = [id_dict[id] for id in ids]\n",
    "    comb_strs = combinations(id_str,2)\n",
    "    comb_indices = combinations(range(N_comps),2)\n",
    "    NRTL_A, NRTL_B, NRTL_C, NRTL_D, NRTL_alpha = np.zeros((5, N_comps,N_comps))\n",
    "    for comb_str, comb_index in zip(comb_strs, comb_indices):\n",
    "        comb_str = '|'.join(comb_str)\n",
    "        comb_values_pat = re.compile(r'^[ ]+(' + comb_str +\n",
    "                                     r')[ ]+(?:' + comb_str + r')(.*)$', re.MULTILINE)\n",
    "\n",
    "        first_id, values = comb_values_pat.search(text).groups(1)\n",
    "        #if matched order is flipped, also flip indices\n",
    "        if first_id != comb_index[0]:\n",
    "            comb_index = (comb_index[1],comb_index[0])\n",
    "        bij, bji, alpha, aij, aji, cij, cji, dij, dji  = [float(val) for val in values.split()]\n",
    "        np.add.at(NRTL_B, comb_index, bij)\n",
    "        np.add.at(NRTL_B, (comb_index[1],comb_index[0]), bji)\n",
    "        np.add.at(NRTL_A, comb_index, aij)\n",
    "        np.add.at(NRTL_A, (comb_index[1],comb_index[0]), aji)\n",
    "        np.add.at(NRTL_C, comb_index, cij)\n",
    "        np.add.at(NRTL_C, (comb_index[1],comb_index[0]), cji)\n",
    "        np.add.at(NRTL_D, comb_index, dij)\n",
    "        np.add.at(NRTL_D, (comb_index[1],comb_index[0]), dji)\n",
    "        np.add.at(NRTL_alpha, comb_index, alpha)\n",
    "        np.add.at(NRTL_alpha, (comb_index[1],comb_index[0]), alpha)\n",
    "    return dict(A=NRTL_A, B=NRTL_B, C=NRTL_C, D=NRTL_D, alpha=NRTL_alpha)"
   ],
   "metadata": {
    "collapsed": false,
    "pycharm": {
     "name": "#%%\n"
    }
   }
  },
  {
   "cell_type": "code",
   "execution_count": 46,
   "outputs": [
    {
     "data": {
      "text/plain": "{'A': array([[0., 0.],\n        [0., 0.]]),\n 'B': array([[  0.  ,  20.06],\n        [832.98,   0.  ]]),\n 'C': array([[0., 0.],\n        [0., 0.]]),\n 'D': array([[0., 0.],\n        [0., 0.]]),\n 'alpha': array([[0.   , 0.326],\n        [0.326, 0.   ]])}"
     },
     "execution_count": 46,
     "metadata": {},
     "output_type": "execute_result"
    }
   ],
   "source": [
    "props=import_ChemCad(['Isopropanol','Water'])\n",
    "import_NRTL(props['ID'])"
   ],
   "metadata": {
    "collapsed": false,
    "pycharm": {
     "name": "#%%\n"
    }
   }
  },
  {
   "cell_type": "code",
   "execution_count": null,
   "outputs": [],
   "source": [
    "props['ID']"
   ],
   "metadata": {
    "collapsed": false,
    "pycharm": {
     "name": "#%%\n"
    }
   }
  },
  {
   "cell_type": "code",
   "execution_count": null,
   "outputs": [],
   "source": [],
   "metadata": {
    "collapsed": false,
    "pycharm": {
     "name": "#%%\n"
    }
   }
  }
 ],
 "metadata": {
  "kernelspec": {
   "display_name": "Python 3",
   "language": "python",
   "name": "python3"
  },
  "language_info": {
   "codemirror_mode": {
    "name": "ipython",
    "version": 2
   },
   "file_extension": ".py",
   "mimetype": "text/x-python",
   "name": "python",
   "nbconvert_exporter": "python",
   "pygments_lexer": "ipython2",
   "version": "2.7.6"
  }
 },
 "nbformat": 4,
 "nbformat_minor": 0
}