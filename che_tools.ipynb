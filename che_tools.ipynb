{
  "nbformat": 4,
  "nbformat_minor": 0,
  "metadata": {
    "colab": {
      "name": "che_tools.ipynb",
      "provenance": [],
      "collapsed_sections": [],
      "authorship_tag": "ABX9TyMBvmjG/mRlZf3y4tlIAsKV",
      "include_colab_link": true
    },
    "kernelspec": {
      "name": "python3",
      "display_name": "Python 3"
    }
  },
  "cells": [
    {
      "cell_type": "markdown",
      "metadata": {
        "id": "view-in-github",
        "colab_type": "text"
      },
      "source": [
        "<a href=\"https://colab.research.google.com/github/profteachkids/CHE2064/blob/master/che_tools.ipynb\" target=\"_parent\"><img src=\"https://colab.research.google.com/assets/colab-badge.svg\" alt=\"Open In Colab\"/></a>"
      ]
    },
    {
      "cell_type": "code",
      "metadata": {
        "id": "4aRwy4oEAjN7",
        "colab_type": "code",
        "colab": {}
      },
      "source": [
        "import re\n",
        "import requests\n",
        "import string\n",
        "from collections import deque\n",
        "import numpy as np"
      ],
      "execution_count": 1,
      "outputs": []
    },
    {
      "cell_type": "code",
      "metadata": {
        "id": "MYbD3xEdAtT6",
        "colab_type": "code",
        "colab": {}
      },
      "source": [
        "def import_ChemCad(comps, base_url=None, extract_single_props=None, extract_coeff_props=None, suffix='Props.txt')\n",
        "\n",
        "  N_comps = len(comps)\n",
        "  if base_url is None:\n",
        "    base_url = 'https://raw.githubusercontent.com/profteachkids/CHE2064/master/data/'\n",
        "\n",
        "  if extract_single_props is None:\n",
        "    extract_single_props = {'Molecular Weight' : 'Mw',\n",
        "                    'Critical Temperature' : 'Tc',\n",
        "                    'Critical Pressure' : 'Pc',\n",
        "                    'Critical Volume' : 'Vc',\n",
        "                    'Acentric factor' : 'w',\n",
        "                    'Normal boiling point' : 'Tb',\n",
        "                    'Heat of vaporization' : 'Hvap'}\n",
        "  if extract_coeff_props is None:\n",
        "    extract_coeff_props={'Vapor Pressure' : 'Pvap'}\n",
        "\n",
        "  single_props_pat = re.compile('^\\s+([\\w\\s]+?)\\s+:\\s+([-.0-9e+]+)\\s+[\\w\\s/]*$', re.MULTILINE)\n",
        "  coeffs_name_pat = re.compile(\"([\\w ]+)\\s[^\\n]*?Equation.*?Coeffs:([- e\\d.+]+)+?\", re.DOTALL)\n",
        "  coeffs_pat = re.compile('([-\\de.+]+)')\n",
        "\n",
        "  props_deque=deque()\n",
        "  for comp in comps:\n",
        "    text = requests.get(base_url+comp + suffix).text\n",
        "    single_props = dict(single_props_pat.findall(text))\n",
        "    props={'Name': comp}\n",
        "    for k,v in extract_single_props.items():\n",
        "      props[v]=float(single_props.pop(k))\n",
        "\n",
        "    coeffs_name_strings = dict(coeffs_name_pat.findall(text))\n",
        "    for k,v in extract_coeff_props.items():\n",
        "      coeffs = coeffs_pat.findall(coeffs_name_strings[k])\n",
        "      for letter, value in zip(string.ascii_uppercase,coeffs):\n",
        "        props[v+letter]=float(value)\n",
        "    props_deque.append(props)\n",
        "  props={}\n",
        "  for prop in props_deque[0].keys():\n",
        "    values = np.array([comp[prop] for comp in props_deque])\n",
        "    props[prop]=values\n",
        "  return props"
      ],
      "execution_count": 7,
      "outputs": []
    },
    {
      "cell_type": "code",
      "metadata": {
        "id": "lbqUnnnhFcVR",
        "colab_type": "code",
        "colab": {}
      },
      "source": [
        ""
      ],
      "execution_count": null,
      "outputs": []
    }
  ]
}