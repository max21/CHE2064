{
 "cells": [
  {
   "cell_type": "code",
   "execution_count": 1,
   "metadata": {
    "collapsed": true
   },
   "outputs": [],
   "source": [
    "import re\n",
    "import requests\n",
    "import string\n",
    "from collections import deque\n",
    "import numpy as np"
   ]
  },
  {
   "cell_type": "code",
   "execution_count": 4,
   "outputs": [],
   "source": [
    "def import_ChemCad(comps, base_url=None, extract_single_props=None,\n",
    "                   extract_coeff_props=None, suffix='Props.txt'):\n",
    "\n",
    "  N_comps = len(comps)\n",
    "  if base_url is None:\n",
    "    base_url = 'https://raw.githubusercontent.com/profteachkids/CHE2064/master/data/'\n",
    "\n",
    "  if extract_single_props is None:\n",
    "    extract_single_props = {'Molecular Weight' : 'Mw',\n",
    "                            'Critical Temperature' : 'Tc',\n",
    "                            'Critical Pressure' : 'Pc',\n",
    "                            'Critical Volume' : 'Vc',\n",
    "                            'Acentric factor' : 'w',\n",
    "                            'Normal boiling point' : 'Tb',\n",
    "                            'Heat of vaporization' : 'Hvap'}\n",
    "  if extract_coeff_props is None:\n",
    "    extract_coeff_props={'Vapor Pressure' : 'Pvap'}\n",
    "\n",
    "  single_props_pat = re.compile('^\\s+([\\w\\s]+?)\\s+:\\s+([-.0-9e+]+)\\s+[\\w\\s/]*$', re.MULTILINE)\n",
    "  coeffs_name_pat = re.compile(\"([\\w ]+)\\s[^\\n]*?Equation.*?Coeffs:([- e\\d.+]+)+?\", re.DOTALL)\n",
    "  coeffs_pat = re.compile('([-\\de.+]+)')\n",
    "\n",
    "  props_deque=deque()\n",
    "  for comp in comps:\n",
    "    text = requests.get(base_url+comp + suffix).text\n",
    "    single_props = dict(single_props_pat.findall(text))\n",
    "    props={'Name': comp}\n",
    "    for k,v in extract_single_props.items():\n",
    "      props[v]=float(single_props.pop(k))\n",
    "\n",
    "    coeffs_name_strings = dict(coeffs_name_pat.findall(text))\n",
    "    for k,v in extract_coeff_props.items():\n",
    "      coeffs = coeffs_pat.findall(coeffs_name_strings[k])\n",
    "      for letter, value in zip(string.ascii_uppercase,coeffs):\n",
    "        props[v+letter]=float(value)\n",
    "    props_deque.append(props)\n",
    "  props={}\n",
    "  for prop in props_deque[0].keys():\n",
    "    if N_comps>1:\n",
    "        values = np.array([comp[prop] for comp in props_deque])\n",
    "    else:\n",
    "        values = props_deque[0][prop]\n",
    "    props[prop]=values\n",
    "  return props"
   ],
   "metadata": {
    "collapsed": false,
    "pycharm": {
     "name": "#%%\n"
    }
   }
  },
  {
   "cell_type": "code",
   "execution_count": 5,
   "outputs": [
    {
     "data": {
      "text/plain": "{'Name': 'Water',\n 'Mw': 18.015,\n 'Tc': 647.35,\n 'Pc': 22118230.0,\n 'Vc': 0.063494,\n 'w': 0.348,\n 'Tb': 373.15,\n 'Hvap': 40656800.0,\n 'PvapA': 72.55,\n 'PvapB': -7206.7,\n 'PvapC': -7.1385,\n 'PvapD': 4.046e-06,\n 'PvapE': 2.0,\n 'PvapF': 0.0,\n 'PvapG': 0.0}"
     },
     "execution_count": 5,
     "metadata": {},
     "output_type": "execute_result"
    }
   ],
   "source": [
    "import_ChemCad(['Water'])"
   ],
   "metadata": {
    "collapsed": false,
    "pycharm": {
     "name": "#%%\n"
    }
   }
  },
  {
   "cell_type": "code",
   "execution_count": 6,
   "outputs": [
    {
     "data": {
      "text/plain": "{'Name': array(['Isopropanol', 'Water'], dtype='<U11'),\n 'Mw': array([60.096, 18.015]),\n 'Tc': array([508.31, 647.35]),\n 'Pc': array([ 4764300., 22118230.]),\n 'Vc': array([0.2201  , 0.063494]),\n 'w': array([0.6689, 0.348 ]),\n 'Tb': array([355.41, 373.15]),\n 'Hvap': array([39832530., 40656800.]),\n 'PvapA': array([92.935, 72.55 ]),\n 'PvapB': array([-8177.1, -7206.7]),\n 'PvapC': array([-10.031 ,  -7.1385]),\n 'PvapD': array([3.9988e-06, 4.0460e-06]),\n 'PvapE': array([2., 2.]),\n 'PvapF': array([0., 0.]),\n 'PvapG': array([0., 0.])}"
     },
     "execution_count": 6,
     "metadata": {},
     "output_type": "execute_result"
    }
   ],
   "source": [
    "import_ChemCad(['Isopropanol','Water'])\n"
   ],
   "metadata": {
    "collapsed": false,
    "pycharm": {
     "name": "#%%\n"
    }
   }
  },
  {
   "cell_type": "code",
   "execution_count": null,
   "outputs": [],
   "source": [],
   "metadata": {
    "collapsed": false,
    "pycharm": {
     "name": "#%%\n"
    }
   }
  }
 ],
 "metadata": {
  "kernelspec": {
   "display_name": "Python 3",
   "language": "python",
   "name": "python3"
  },
  "language_info": {
   "codemirror_mode": {
    "name": "ipython",
    "version": 2
   },
   "file_extension": ".py",
   "mimetype": "text/x-python",
   "name": "python",
   "nbconvert_exporter": "python",
   "pygments_lexer": "ipython2",
   "version": "2.7.6"
  }
 },
 "nbformat": 4,
 "nbformat_minor": 0
}