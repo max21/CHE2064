{
  "nbformat": 4,
  "nbformat_minor": 0,
  "metadata": {
    "colab": {
      "name": "Regex_ChemCad_Import.ipynb",
      "provenance": [],
      "collapsed_sections": [],
      "authorship_tag": "ABX9TyNsS6rkEPIwFKZf94gxleC9",
      "include_colab_link": true
    },
    "kernelspec": {
      "name": "python3",
      "display_name": "Python 3"
    }
  },
  "cells": [
    {
      "cell_type": "markdown",
      "metadata": {
        "id": "view-in-github",
        "colab_type": "text"
      },
      "source": [
        "<a href=\"https://colab.research.google.com/github/profteachkids/CHE2064/blob/master/Regex_ChemCad_Import.ipynb\" target=\"_parent\"><img src=\"https://colab.research.google.com/assets/colab-badge.svg\" alt=\"Open In Colab\"/></a>"
      ]
    },
    {
      "cell_type": "code",
      "metadata": {
        "id": "4aRwy4oEAjN7",
        "colab_type": "code",
        "colab": {}
      },
      "source": [
        "import re\n",
        "import requests\n",
        "import string\n",
        "from collections import deque\n",
        "import numpy as np"
      ],
      "execution_count": 1,
      "outputs": []
    },
    {
      "cell_type": "code",
      "metadata": {
        "id": "MYbD3xEdAtT6",
        "colab_type": "code",
        "colab": {}
      },
      "source": [
        "base_url = 'https://raw.githubusercontent.com/profteachkids/CHE2064/master/data/'\n",
        "suffix = 'Props.txt'\n",
        "\n",
        "comps = ['Isopropanol', 'Water']\n",
        "N_comps = len(comps)\n",
        "extract_single_props = {'Molecular Weight' : 'Mw',\n",
        "                 'Critical Temperature' : 'Tc',\n",
        "                 'Critical Pressure' : 'Pc',\n",
        "                 'Critical Volume' : 'Vc',\n",
        "                 'Acentric factor' : 'w',\n",
        "                 'Normal boiling point' : 'Tb',\n",
        "                 'Heat of vaporization' : 'Hvap'}\n",
        "extract_coeff_props={'Vapor Pressure' : 'Pvap'}\n",
        "\n",
        "single_props_pat = re.compile('^\\s+([\\w\\s]+?)\\s+:\\s+([-.0-9e+]+)\\s+[\\w\\s/]*$', re.MULTILINE)\n",
        "coeffs_name_pat = re.compile(\"([\\w ]+)\\s[^\\n]*?Equation.*?Coeffs:([- e\\d.+]+)+?\", re.DOTALL)\n",
        "coeffs_pat = re.compile('([-\\de.+]+)')\n",
        "\n",
        "props_deque=deque()\n",
        "for comp in comps:\n",
        "  text = requests.get(base_url+comp + suffix).text\n",
        "  single_props = dict(single_props_pat.findall(text))\n",
        "  props={'Name': comp}\n",
        "  for k,v in extract_single_props.items():\n",
        "    props[v]=float(single_props.pop(k))\n",
        "\n",
        "  coeffs_name_strings = dict(coeffs_name_pat.findall(text))\n",
        "  for k,v in extract_coeff_props.items():\n",
        "    coeffs = coeffs_pat.findall(coeffs_name_strings[k])\n",
        "    for letter, value in zip(string.ascii_uppercase,coeffs):\n",
        "      props[v+letter]=float(value)\n",
        "  props_deque.append(props)"
      ],
      "execution_count": 7,
      "outputs": []
    },
    {
      "cell_type": "code",
      "metadata": {
        "id": "fldRTSlYBABx",
        "colab_type": "code",
        "colab": {}
      },
      "source": [
        "props={}\n",
        "for prop in props_deque[0].keys():\n",
        "  values = np.array([comp[prop] for comp in props_deque])\n",
        "  props[prop]=values\n"
      ],
      "execution_count": 8,
      "outputs": []
    },
    {
      "cell_type": "code",
      "metadata": {
        "id": "RSiyVc4-CBpD",
        "colab_type": "code",
        "colab": {
          "base_uri": "https://localhost:8080/",
          "height": 286
        },
        "outputId": "be967627-a4c0-433d-b4d6-bbaf89698932"
      },
      "source": [
        "props"
      ],
      "execution_count": 9,
      "outputs": [
        {
          "output_type": "execute_result",
          "data": {
            "text/plain": [
              "{'Hvap': array([39832530., 40656800.]),\n",
              " 'Mw': array([60.096, 18.015]),\n",
              " 'Name': array(['Isopropanol', 'Water'], dtype='<U11'),\n",
              " 'Pc': array([ 4764300., 22118230.]),\n",
              " 'PvapA': array([92.935, 72.55 ]),\n",
              " 'PvapB': array([-8177.1, -7206.7]),\n",
              " 'PvapC': array([-10.031 ,  -7.1385]),\n",
              " 'PvapD': array([3.9988e-06, 4.0460e-06]),\n",
              " 'PvapE': array([2., 2.]),\n",
              " 'PvapF': array([0., 0.]),\n",
              " 'PvapG': array([0., 0.]),\n",
              " 'Tb': array([355.41, 373.15]),\n",
              " 'Tc': array([508.31, 647.35]),\n",
              " 'Vc': array([0.2201  , 0.063494]),\n",
              " 'w': array([0.6689, 0.348 ])}"
            ]
          },
          "metadata": {
            "tags": []
          },
          "execution_count": 9
        }
      ]
    },
    {
      "cell_type": "code",
      "metadata": {
        "id": "lbqUnnnhFcVR",
        "colab_type": "code",
        "colab": {}
      },
      "source": [
        ""
      ],
      "execution_count": null,
      "outputs": []
    }
  ]
}